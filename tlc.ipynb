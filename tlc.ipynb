{
 "cells": [
  {
   "cell_type": "markdown",
   "metadata": {},
   "source": [
    "# Yellow Cab Pickups - NYC in January 2010\n",
    "We're going to use DuckDB with the H3 extension to visualize them. \n",
    "\n",
    "This notebook is inspired by [this Fused DuckDB UDF](https://github.com/fusedio/udfs/blob/main/public/DuckDB_H3_Example_Tile/DuckDB_H3_Example_Tile.py). It's one in a series, if you want to learn more about DuckDB with H3 look at the public and community UDFs they have on GitHub."
   ]
  },
  {
   "cell_type": "code",
   "execution_count": 19,
   "metadata": {},
   "outputs": [],
   "source": [
    "! pip install keplergl pandas duckdb -q"
   ]
  },
  {
   "cell_type": "code",
   "execution_count": 10,
   "metadata": {},
   "outputs": [
    {
     "data": {
      "application/vnd.jupyter.widget-view+json": {
       "model_id": "368fadc3896b4aa595d38865414b610d",
       "version_major": 2,
       "version_minor": 0
      },
      "text/plain": [
       "FloatProgress(value=0.0, layout=Layout(width='auto'), style=ProgressStyle(bar_color='black'))"
      ]
     },
     "metadata": {},
     "output_type": "display_data"
    }
   ],
   "source": [
    "import duckdb\n",
    "con = duckdb.connect()\n",
    "con.sql(\"\"\" INSTALL h3 FROM community;\n",
    "            LOAD h3;\n",
    "            INSTALL spatial; \n",
    "            LOAD spatial;\n",
    "            INSTALL httpfs;\n",
    "            LOAD httpfs;\"\"\")"
   ]
  },
  {
   "cell_type": "markdown",
   "metadata": {},
   "source": [
    "Find this URL and others on this page: [https://home.nyc.gov/site/tlc/about/tlc-trip-record-data.page](https://home.nyc.gov/site/tlc/about/tlc-trip-record-data.page). Keep in mind TLC doesn't have lat long for recent files. You can see what's in the parquet by copying and running in the cell below."
   ]
  },
  {
   "cell_type": "code",
   "execution_count": 11,
   "metadata": {},
   "outputs": [
    {
     "data": {
      "application/vnd.jupyter.widget-view+json": {
       "model_id": "da90048cf0d4499eb6d4ced78f0999c0",
       "version_major": 2,
       "version_minor": 0
      },
      "text/plain": [
       "FloatProgress(value=0.0, layout=Layout(width='auto'), style=ProgressStyle(bar_color='black'))"
      ]
     },
     "metadata": {},
     "output_type": "display_data"
    },
    {
     "data": {
      "text/plain": [
       "┌───────────┬─────────────────────┬─────────────────────┬─────────────────┬────────────────────┬────────────────────┬─────────────────┬───────────┬────────────────────┬────────────────────┬──────────────────┬──────────────┬───────────────────┬───────────┬─────────┬────────────┬──────────────┬──────────────┐\n",
       "│ vendor_id │   pickup_datetime   │  dropoff_datetime   │ passenger_count │   trip_distance    │  pickup_longitude  │ pickup_latitude │ rate_code │ store_and_fwd_flag │ dropoff_longitude  │ dropoff_latitude │ payment_type │    fare_amount    │ surcharge │ mta_tax │ tip_amount │ tolls_amount │ total_amount │\n",
       "│  varchar  │       varchar       │       varchar       │      int64      │       double       │       double       │     double      │  varchar  │      varchar       │       double       │      double      │   varchar    │      double       │  double   │ double  │   double   │    double    │    double    │\n",
       "├───────────┼─────────────────────┼─────────────────────┼─────────────────┼────────────────────┼────────────────────┼─────────────────┼───────────┼────────────────────┼────────────────────┼──────────────────┼──────────────┼───────────────────┼───────────┼─────────┼────────────┼──────────────┼──────────────┤\n",
       "│ VTS       │ 2010-01-26 07:41:00 │ 2010-01-26 07:45:00 │               1 │               0.75 │         -73.956778 │        40.76775 │ 1         │ NULL               │         -73.965957 │        40.765232 │ CAS          │               4.5 │       0.0 │     0.5 │        0.0 │          0.0 │          5.0 │\n",
       "│ DDS       │ 2010-01-30 23:31:00 │ 2010-01-30 23:46:12 │               1 │                5.9 │ -73.99611799999998 │       40.763932 │ 1         │ NULL               │ -73.98151199999998 │        40.741193 │ CAS          │              15.3 │       0.5 │     0.5 │        0.0 │          0.0 │         16.3 │\n",
       "│ DDS       │ 2010-01-18 20:22:20 │ 2010-01-18 20:38:12 │               1 │                4.0 │         -73.979673 │        40.78379 │ 1         │ NULL               │ -73.91785199999998 │         40.87856 │ CAS          │              11.7 │       0.5 │     0.5 │        0.0 │          0.0 │         12.7 │\n",
       "│ VTS       │ 2010-01-09 01:18:00 │ 2010-01-09 01:35:00 │               2 │                4.7 │         -73.977922 │       40.763997 │ 1         │ NULL               │ -73.92390799999998 │        40.759725 │ CAS          │              13.3 │       0.5 │     0.5 │        0.0 │          0.0 │         14.3 │\n",
       "│ CMT       │ 2010-01-18 19:10:14 │ 2010-01-18 19:17:07 │               1 │ 0.5999999999999999 │         -73.990924 │       40.734682 │ 1         │ 0                  │ -73.99551099999998 │        40.739088 │ Cre          │               5.3 │       0.0 │     0.5 │       0.87 │          0.0 │         6.67 │\n",
       "│ DDS       │ 2010-01-23 18:40:25 │ 2010-01-23 18:54:51 │               1 │                3.3 │                0.0 │             0.0 │ 1         │ NULL               │                0.0 │              0.0 │ CRE          │              10.5 │       0.0 │     0.5 │        1.0 │          0.0 │         12.0 │\n",
       "│ VTS       │ 2010-01-17 09:18:00 │ 2010-01-17 09:25:00 │               1 │               1.33 │         -73.993747 │       40.754917 │ 1         │ NULL               │ -73.98471499999998 │        40.755927 │ CAS          │               6.1 │       0.0 │     0.5 │        0.0 │          0.0 │          6.6 │\n",
       "│ VTS       │ 2010-01-09 13:49:00 │ 2010-01-09 13:56:00 │               1 │               1.83 │          -73.97103 │       40.751307 │ 1         │ NULL               │          -73.99056 │        40.734923 │ CAS          │               6.9 │       0.0 │     0.5 │        0.0 │          0.0 │          7.4 │\n",
       "│ VTS       │ 2010-01-09 00:25:00 │ 2010-01-09 00:39:00 │               1 │               3.28 │         -73.990037 │       40.725633 │ 1         │ NULL               │         -73.993842 │        40.761697 │ CAS          │              11.3 │       0.5 │     0.5 │        0.0 │          0.0 │         12.3 │\n",
       "│ VTS       │ 2010-01-27 18:15:00 │ 2010-01-27 18:29:00 │               1 │               1.42 │         -73.979623 │        40.74378 │ 1         │ NULL               │ -73.98941499999998 │        40.756788 │ Cre          │               8.5 │       1.0 │     0.5 │        2.0 │          0.0 │         12.0 │\n",
       "│  ·        │          ·          │          ·          │               · │                 ·  │              ·     │            ·    │ ·         │ ·                  │              ·     │            ·     │  ·           │                ·  │        ·  │      ·  │         ·  │           ·  │           ·  │\n",
       "│  ·        │          ·          │          ·          │               · │                 ·  │              ·     │            ·    │ ·         │ ·                  │              ·     │            ·     │  ·           │                ·  │        ·  │      ·  │         ·  │           ·  │           ·  │\n",
       "│  ·        │          ·          │          ·          │               · │                 ·  │              ·     │            ·    │ ·         │ ·                  │              ·     │            ·     │  ·           │                ·  │        ·  │      ·  │         ·  │           ·  │           ·  │\n",
       "│ CMT       │ 2010-01-29 10:10:30 │ 2010-01-29 10:16:54 │               1 │                1.2 │         -73.954082 │       40.787214 │ 1         │ 0                  │         -73.963656 │        40.771832 │ Cre          │               6.1 │       0.0 │     0.5 │       1.32 │          0.0 │         7.92 │\n",
       "│ CMT       │ 2010-01-04 20:25:15 │ 2010-01-04 20:46:17 │               1 │                7.2 │         -73.979837 │       40.761188 │ 1         │ 0                  │         -73.995649 │        40.695152 │ Cre          │              19.3 │       0.5 │     0.5 │       4.06 │          0.0 │        24.36 │\n",
       "│ VTS       │ 2010-01-07 17:57:00 │ 2010-01-07 18:07:00 │               1 │               2.04 │          -73.99348 │       40.742102 │ 1         │ NULL               │         -73.991482 │        40.761327 │ CAS          │ 8.099999999999998 │       1.0 │     0.5 │        0.0 │          0.0 │          9.6 │\n",
       "│ VTS       │ 2010-01-08 00:08:00 │ 2010-01-08 00:22:00 │               1 │               2.48 │ -74.00726299999998 │       40.740085 │ 1         │ NULL               │ -73.97537199999998 │        40.745958 │ Cre          │              10.1 │       0.5 │     0.5 │        1.5 │          0.0 │         12.6 │\n",
       "│ CMT       │ 2010-01-31 20:36:38 │ 2010-01-31 20:58:12 │               1 │                6.4 │ -73.99279699999998 │       40.733902 │ 1         │ 0                  │          -73.92429 │        40.774208 │ Cre          │              17.7 │       0.5 │     0.5 │        3.0 │          0.0 │         21.7 │\n",
       "│ CMT       │ 2010-01-16 11:03:42 │ 2010-01-16 11:14:46 │               1 │                2.1 │ -73.95918899999998 │       40.783264 │ 1         │ 0                  │         -73.981502 │        40.768743 │ Cas          │               8.5 │       0.0 │     0.5 │        0.0 │          0.0 │          9.0 │\n",
       "│ CMT       │ 2010-01-05 08:56:30 │ 2010-01-05 09:04:29 │               1 │                0.8 │         -73.981093 │       40.733943 │ 1         │ 0                  │ -73.98549699999998 │        40.741723 │ Cas          │               6.1 │       0.0 │     0.5 │        0.0 │          0.0 │          6.6 │\n",
       "│ CMT       │ 2010-01-08 08:40:48 │ 2010-01-08 09:04:44 │               1 │                6.9 │         -74.016232 │       40.708016 │ 1         │ 0                  │           -73.9779 │        40.762517 │ Cre          │              19.3 │       0.0 │     0.5 │        2.0 │          0.0 │         21.8 │\n",
       "│ CMT       │ 2010-01-08 07:06:21 │ 2010-01-08 07:13:34 │               1 │                1.5 │         -73.991392 │       40.750361 │ 1         │ 0                  │         -73.988774 │        40.734149 │ Cas          │               6.5 │       0.0 │     0.5 │        0.0 │          0.0 │          7.0 │\n",
       "│ VTS       │ 2010-01-09 03:09:00 │ 2010-01-09 03:18:00 │               1 │               3.13 │         -74.006062 │       40.746693 │ 1         │ NULL               │         -74.016992 │         40.71142 │ CAS          │               9.7 │       0.5 │     0.5 │        0.0 │          0.0 │         10.7 │\n",
       "├───────────┴─────────────────────┴─────────────────────┴─────────────────┴────────────────────┴────────────────────┴─────────────────┴───────────┴────────────────────┴────────────────────┴──────────────────┴──────────────┴───────────────────┴───────────┴─────────┴────────────┴──────────────┴──────────────┤\n",
       "│ ? rows (>9999 rows, 20 shown)                                                                                                                                                                                                                                                                         18 columns │\n",
       "└──────────────────────────────────────────────────────────────────────────────────────────────────────────────────────────────────────────────────────────────────────────────────────────────────────────────────────────────────────────────────────────────────────────────────────────────────────────────────┘"
      ]
     },
     "execution_count": 11,
     "metadata": {},
     "output_type": "execute_result"
    }
   ],
   "source": [
    "con.sql(\"from read_parquet('https://d37ci6vzurychx.cloudfront.net/trip-data/yellow_tripdata_2010-01.parquet')\")"
   ]
  },
  {
   "cell_type": "markdown",
   "metadata": {},
   "source": [
    "This is a DuckDB SQL query that will create cells from the coordinates of pick-ups and aggregate them to cells for visualization via a Pandas DataFrame."
   ]
  },
  {
   "cell_type": "code",
   "execution_count": 15,
   "metadata": {},
   "outputs": [
    {
     "data": {
      "application/vnd.jupyter.widget-view+json": {
       "model_id": "b55f1c17bd5a4e3aaeb0a769ebebb3cc",
       "version_major": 2,
       "version_minor": 0
      },
      "text/plain": [
       "FloatProgress(value=0.0, layout=Layout(width='auto'), style=ProgressStyle(bar_color='black'))"
      ]
     },
     "metadata": {},
     "output_type": "display_data"
    }
   ],
   "source": [
    "url = 'https://d37ci6vzurychx.cloudfront.net/trip-data/yellow_tripdata_2010-01.parquet'\n",
    "min_cnt = 10   # There's a lot of noise if you include everything \n",
    "resolution = 11\n",
    "\n",
    "query = f\"\"\"\n",
    "WITH to_cells as (\n",
    "SELECT\n",
    "    h3_h3_to_string(h3_latlng_to_cell(pickup_latitude, pickup_longitude, {resolution})) AS cell_id, \n",
    "    h3_cell_to_boundary_wkt(cell_id) boundary,\n",
    "    count(1) as cnt\n",
    "FROM read_parquet('{url}')\n",
    "GROUP BY 1 \n",
    "HAVING cnt >= {min_cnt})\n",
    "SELECT\n",
    "    boundary, -- Kepler in Jupyter doesn't like the H3 string so we have to use the Polygon boundary\n",
    "    cnt\n",
    "FROM to_cells\n",
    "\n",
    "\"\"\"\n",
    "\n",
    "df = con.sql(query).df()"
   ]
  },
  {
   "cell_type": "markdown",
   "metadata": {},
   "source": [
    "Run the next two cells to get my configuration and display the map."
   ]
  },
  {
   "cell_type": "code",
   "execution_count": 23,
   "metadata": {},
   "outputs": [],
   "source": [
    "kepler_config = {'version': 'v1', 'config': {'visState': {'filters': [], 'layers': [{'id': 'twpodtg', 'type': 'geojson', 'config': {'dataId': 'Building Denisty', 'label': 'Building Denisty', 'color': [221, 178, 124], 'highlightColor': [252, 242, 26, 255], 'columns': {'geojson': 'boundary'}, 'isVisible': True, 'visConfig': {'opacity': 0.8, 'strokeOpacity': 0.8, 'thickness': 0.5, 'strokeColor': [136, 87, 44], 'colorRange': {'name': 'Global Warming', 'type': 'sequential', 'category': 'Uber', 'colors': ['#5A1846', '#900C3F', '#C70039', '#E3611C', '#F1920E', '#FFC300']}, 'strokeColorRange': {'name': 'Global Warming', 'type': 'sequential', 'category': 'Uber', 'colors': ['#5A1846', '#900C3F', '#C70039', '#E3611C', '#F1920E', '#FFC300']}, 'radius': 10, 'sizeRange': [0, 10], 'radiusRange': [0, 50], 'heightRange': [0, 500], 'elevationScale': 5, 'enableElevationZoomFactor': True, 'stroked': False, 'filled': True, 'enable3d': False, 'wireframe': False}, 'hidden': False, 'textLabel': [{'field': None, 'color': [255, 255, 255], 'size': 18, 'offset': [0, 0], 'anchor': 'start', 'alignment': 'center'}]}, 'visualChannels': {'colorField': {'name': 'cnt', 'type': 'integer'}, 'colorScale': 'quantile', 'strokeColorField': None, 'strokeColorScale': 'quantile', 'sizeField': None, 'sizeScale': 'linear', 'heightField': None, 'heightScale': 'linear', 'radiusField': None, 'radiusScale': 'linear'}}], 'interactionConfig': {'tooltip': {'fieldsToShow': {'Building Denisty': [{'name': 'cnt', 'format': None}]}, 'compareMode': False, 'compareType': 'absolute', 'enabled': True}, 'brush': {'size': 0.5, 'enabled': False}, 'geocoder': {'enabled': False}, 'coordinate': {'enabled': False}}, 'layerBlending': 'normal', 'splitMaps': [], 'animationConfig': {'currentTime': None, 'speed': 1}}, 'mapState': {'bearing': 0, 'dragRotate': False, 'latitude': 40.727807886704745, 'longitude': -73.88863872660393, 'pitch': 0, 'zoom': 10.032621379351138, 'isSplit': False}, 'mapStyle': {'styleType': 'dark', 'topLayerGroups': {}, 'visibleLayerGroups': {'label': False, 'road': False, 'border': False, 'building': True, 'water': True, 'land': True, '3d building': False}, 'threeDBuildingColor': [9.665468314072013, 17.18305478057247, 31.1442867897876], 'mapStyles': {}}}}"
   ]
  },
  {
   "cell_type": "code",
   "execution_count": 24,
   "metadata": {},
   "outputs": [
    {
     "name": "stdout",
     "output_type": "stream",
     "text": [
      "User Guide: https://docs.kepler.gl/docs/keplergl-jupyter\n"
     ]
    },
    {
     "data": {
      "application/vnd.jupyter.widget-view+json": {
       "model_id": "a746be7c73e045efabb771fd769b1e04",
       "version_major": 2,
       "version_minor": 0
      },
      "text/plain": [
       "KeplerGl(config={'version': 'v1', 'config': {'visState': {'filters': [], 'layers': [{'id': 'twpodtg', 'type': …"
      ]
     },
     "metadata": {},
     "output_type": "display_data"
    }
   ],
   "source": [
    "# Load an empty map\n",
    "from keplergl import KeplerGl\n",
    "\n",
    "# Create an instance of KeplerGl\n",
    "map_1 = KeplerGl()\n",
    "\n",
    "# Add your data to the map\n",
    "map_1.add_data(data=df, name='Building Denisty')\n",
    "\n",
    "map_1.config = kepler_config\n",
    "# Display the map\n",
    "map_1"
   ]
  },
  {
   "cell_type": "markdown",
   "metadata": {},
   "source": [
    "Run this and swap for my `kepler_config` if you want to save your changes."
   ]
  },
  {
   "cell_type": "code",
   "execution_count": null,
   "metadata": {},
   "outputs": [],
   "source": [
    "print(map_1.config)"
   ]
  }
 ],
 "metadata": {
  "kernelspec": {
   "display_name": "fused_ex_venv",
   "language": "python",
   "name": "python3"
  },
  "language_info": {
   "codemirror_mode": {
    "name": "ipython",
    "version": 3
   },
   "file_extension": ".py",
   "mimetype": "text/x-python",
   "name": "python",
   "nbconvert_exporter": "python",
   "pygments_lexer": "ipython3",
   "version": "3.11.1"
  }
 },
 "nbformat": 4,
 "nbformat_minor": 2
}
