{
  "cells": [
    {
      "cell_type": "markdown",
      "metadata": {
        "colab_type": "text",
        "id": "view-in-github"
      },
      "source": [
        "<a href=\"https://colab.research.google.com/github/kentstephen/duckdb_h3/blob/main/road_complexity.ipynb\" target=\"_parent\"><img src=\"https://colab.research.google.com/assets/colab-badge.svg\" alt=\"Open In Colab\"/></a>"
      ]
    },
    {
      "cell_type": "markdown",
      "metadata": {
        "id": "y1fxmCS_j0P-"
      },
      "source": [
        "# Analyzing Road Complexity by Aggregating Intersection Data from Overture Maps"
      ]
    },
    {
      "cell_type": "code",
      "execution_count": null,
      "metadata": {
        "id": "2ly6M6PQj0P_"
      },
      "outputs": [],
      "source": [
        "! pip install keplergl duckdb pandas -q"
      ]
    },
    {
      "cell_type": "code",
      "execution_count": null,
      "metadata": {
        "id": "eNuxEoonj0QA"
      },
      "outputs": [],
      "source": [
        "import duckdb\n",
        "con = duckdb.connect(config={\"allow_unsigned_extensions\": True})\n",
        "con.sql(\"\"\" INSTALL h3ext FROM 'https://pub-cc26a6fd5d8240078bd0c2e0623393a5.r2.dev';\n",
        "            LOAD h3ext;\n",
        "            INSTALL spatial;\n",
        "            LOAD spatial;\n",
        "            INSTALL httpfs;\n",
        "            LOAD httpfs;\n",
        "            SET s3_region='us-west-2';\"\"\")"
      ]
    },
    {
      "cell_type": "markdown",
      "metadata": {
        "id": "hd-9_RnZj0QA"
      },
      "source": [
        "This is how you find areas to query from Overture. It takes some getting used to but you can query it to troubleshoot, I suggest looking at [Overture's Docs](https://docs.overturemaps.org/schema/reference/divisions/division_area/) to get a sense of what to look for"
      ]
    },
    {
      "cell_type": "code",
      "execution_count": null,
      "metadata": {
        "id": "Eqea6bK8j0QB"
      },
      "outputs": [],
      "source": [
        "bbox, wkt_geom = con.sql(\"\"\"\n",
        "select\n",
        "    bbox,\n",
        "    ST_AsText(ST_GeomFromWKB(geometry)) AS wkt\n",
        "from read_parquet('s3://overturemaps-us-west-2/release/2024-06-13-beta.0/theme=divisions/type=division_area/*', filename=true, hive_partitioning=1)\n",
        "where\n",
        "    country = 'US'\n",
        "    and region = 'US-CA'\n",
        "    and subtype = 'county'\n",
        "   and names.primary = 'Los Angeles'\n",
        "\n",
        "\"\"\"\n",
        ").fetchall()[0]"
      ]
    },
    {
      "cell_type": "markdown",
      "metadata": {
        "id": "6bl5Zt74j0QB"
      },
      "source": [
        "### We are querying the connnector type from the transportation theme.\n",
        "1. We first create a geom from Overture's binary geometries, then finding centroids (probably unnecessary but useful if there's a surprise).\n",
        "\n",
        "2. We filter by bbox and wkt (I call it `wkt_geom` because if I am using shapely too it can get confusing) to find our area of interest.\n",
        "\n",
        "3. We then make cells with the lat and long, addding a `COUNT(1)` in order to get the volume of connectors for each cell.\n",
        "\n",
        "4. Then we turn the H3 into strings, which is useful to visualize in the [Kepler.gl](kepler.gl) web app or [Four Square Studio](https://studio.foursquare.com/), but not necessary for Kepler in Jupyter.\n",
        "\n",
        "5. We then calculate the SUM of the counts, but I'm not sure if I really need to do that. Maybe some SQL wizard will let me know.\n",
        "\n",
        "I keep hearing about about the Ibis framework, if someone wants to convert this query into Ibis, I'd be very curious to see what it would look like."
      ]
    },
    {
      "cell_type": "code",
      "execution_count": null,
      "metadata": {
        "id": "ssGJ4aErj0QB"
      },
      "outputs": [],
      "source": [
        "resolution = 9\n",
        "query=  f\"\"\"\n",
        "    WITH geometry_cte AS (\n",
        "        SELECT\n",
        "            ST_Y(ST_Centroid(ST_GeomFromWKB(geometry))) AS latitude,\n",
        "            ST_X(ST_Centroid(ST_GeomFromWKB(geometry))) AS longitude\n",
        "        FROM read_parquet('s3://overturemaps-us-west-2/release/2024-08-20.0/theme=transportation/type=connector/*', filename=true, hive_partitioning=1)\n",
        "         WHERE\n",
        "            bbox.xmin <= {bbox[\"xmax\"]}\n",
        "            AND bbox.xmax >= {bbox[\"xmin\"]}\n",
        "            AND bbox.ymin <= {bbox[\"ymax\"]}\n",
        "            AND bbox.ymax >= {bbox[\"ymin\"]}\n",
        "            AND ST_Intersects(ST_GeomFromWKB(geometry), ST_GeomFromText('{wkt_geom}'))\n",
        "    ),\n",
        "    h3_cells_cte AS (\n",
        "        SELECT\n",
        "            h3_latlng_to_cell(latitude, longitude, {resolution}) AS cell_id,\n",
        "            COUNT(1) as cnt\n",
        "        FROM geometry_cte\n",
        "        GROUP BY 1\n",
        "    )\n",
        "        SELECT\n",
        "            h3_h3_to_string(cell_id) AS cell_id,\n",
        "            h3_cell_to_boundary_wkt(cell_id) as cell_boundary,\n",
        "            SUM(cnt) as cnt\n",
        "        FROM h3_cells_cte\n",
        "        GROUP BY ALL\n",
        "        \"\"\"\n",
        "df = con.sql(query).df()"
      ]
    },
    {
      "cell_type": "markdown",
      "metadata": {
        "id": "rlRTkW0Zj0QB"
      },
      "source": [
        "Kepler config. You can save yours after you launch the map and make changes, go to the print statement below and then swap the JSON."
      ]
    },
    {
      "cell_type": "code",
      "execution_count": null,
      "metadata": {
        "id": "DkBIgagyj0QB"
      },
      "outputs": [],
      "source": [
        "kepler_config = {'version': 'v1', 'config': {'visState': {'filters': [], 'layers': [{'id': '5t1wszk', 'type': 'geojson', 'config': {'dataId': 'Intersection Denisty', 'label': 'Intersection Denisty', 'color': [34, 63, 154], 'highlightColor': [252, 242, 26, 255], 'columns': {'geojson': 'cell_boundary'}, 'isVisible': True, 'visConfig': {'opacity': 0.57, 'strokeOpacity': 0.8, 'thickness': 0.5, 'strokeColor': [218, 112, 191], 'colorRange': {'name': 'Uber Viz Diverging 2.5', 'type': 'diverging', 'category': 'Uber', 'colors': ['#00939C', '#3EADB3', '#7CC7CB', '#BAE1E2', '#F8C0AA', '#E68F71', '#D45F39', '#C22E00']}, 'strokeColorRange': {'name': 'Global Warming', 'type': 'sequential', 'category': 'Uber', 'colors': ['#5A1846', '#900C3F', '#C70039', '#E3611C', '#F1920E', '#FFC300']}, 'radius': 10, 'sizeRange': [0, 10], 'radiusRange': [0, 50], 'heightRange': [0, 500], 'elevationScale': 5, 'enableElevationZoomFactor': True, 'stroked': False, 'filled': True, 'enable3d': False, 'wireframe': False}, 'hidden': False, 'textLabel': [{'field': None, 'color': [255, 255, 255], 'size': 18, 'offset': [0, 0], 'anchor': 'start', 'alignment': 'center'}]}, 'visualChannels': {'colorField': {'name': 'cnt', 'type': 'integer'}, 'colorScale': 'quantile', 'strokeColorField': None, 'strokeColorScale': 'quantile', 'sizeField': None, 'sizeScale': 'linear', 'heightField': None, 'heightScale': 'linear', 'radiusField': None, 'radiusScale': 'linear'}}], 'interactionConfig': {'tooltip': {'fieldsToShow': {'Intersection Denisty': [{'name': 'cnt', 'format': None}]}, 'compareMode': False, 'compareType': 'absolute', 'enabled': True}, 'brush': {'size': 0.5, 'enabled': False}, 'geocoder': {'enabled': False}, 'coordinate': {'enabled': False}}, 'layerBlending': 'normal', 'splitMaps': [], 'animationConfig': {'currentTime': None, 'speed': 1}}, 'mapState': {'bearing': 0, 'dragRotate': False, 'latitude': 34.03500665586551, 'longitude': -118.33464976136455, 'pitch': 0, 'zoom': 11.43681840906374, 'isSplit': False}, 'mapStyle': {'styleType': 'dark', 'topLayerGroups': {'label': True, 'road': True}, 'visibleLayerGroups': {'label': True, 'road': True, 'border': False, 'building': True, 'water': True, 'land': True, '3d building': False}, 'threeDBuildingColor': [9.665468314072013, 17.18305478057247, 31.1442867897876], 'mapStyles': {}}}}"
      ]
    },
    {
      "cell_type": "markdown",
      "metadata": {
        "id": "r_fKe4eGkIUG"
      },
      "source": [
        "This is for Colab:"
      ]
    },
    {
      "cell_type": "code",
      "execution_count": null,
      "metadata": {
        "id": "d_87IGV8kHkt"
      },
      "outputs": [],
      "source": [
        "try:\n",
        "    import google.colab\n",
        "    IN_COLAB = True\n",
        "except ImportError:\n",
        "    IN_COLAB = False\n",
        "\n",
        "if IN_COLAB:\n",
        "    from google.colab import output\n",
        "    output.enable_custom_widget_manager()\n",
        "else:\n",
        "    print(\"Not running in Google Colab. Skipping custom widget manager setup.\")"
      ]
    },
    {
      "cell_type": "code",
      "execution_count": null,
      "metadata": {
        "id": "HPSJxCm8j0QC"
      },
      "outputs": [],
      "source": [
        "# Load an empty map\n",
        "from keplergl import KeplerGl\n",
        "\n",
        "# Create an instance of KeplerGl\n",
        "map_1 = KeplerGl()\n",
        "\n",
        "# Add your data to the map, we only want the boundary and the cnt\n",
        "map_1.add_data(data=df[[\"cell_boundary\", \"cnt\"]], name='Intersection Denisty')\n",
        "\n",
        "map_1.config = kepler_config\n",
        "# Display the map\n",
        "map_1"
      ]
    },
    {
      "cell_type": "code",
      "execution_count": null,
      "metadata": {
        "id": "ikbSxDkDj0QC"
      },
      "outputs": [],
      "source": [
        "print(map_1.config)"
      ]
    },
    {
      "cell_type": "markdown",
      "metadata": {
        "id": "FRik9Ccsj0QC"
      },
      "source": [
        "## If you're thinking:\n",
        "### *Hey Stephen that was pretty cool but I want to see what the whole world looks like, all right?*\n",
        "Uncomment the following cells and see for yourself! Takes me about 5 minutes in VS Code, a good amount longer on Colab, I suggest running the following locally"
      ]
    },
    {
      "cell_type": "markdown",
      "metadata": {
        "id": "bCEJJa7dq3zm"
      },
      "source": [
        "I think it's prudent to not go past resolution 6. 4 is the most Colab would let me visualize and I would keep it there if you are going to keep using Kepler in Jupyter."
      ]
    },
    {
      "cell_type": "code",
      "execution_count": null,
      "metadata": {
        "id": "RcbZNQXIj0QC"
      },
      "outputs": [],
      "source": [
        "# resolution = 4\n",
        "# query=  f\"\"\"\n",
        "#     WITH geometry_cte AS (\n",
        "#         SELECT\n",
        "#             ST_Y(ST_Centroid(ST_GeomFromWKB(geometry))) AS latitude,\n",
        "#             ST_X(ST_Centroid(ST_GeomFromWKB(geometry))) AS longitude\n",
        "#         FROM read_parquet('s3://overturemaps-us-west-2/release/2024-08-20.0/theme=transportation/type=connector/*', filename=true, hive_partitioning=1)\n",
        "#     ),\n",
        "#     h3_cells_cte AS (\n",
        "#         SELECT\n",
        "#             h3_latlng_to_cell(latitude, longitude, {resolution}) AS cell_id,\n",
        "#             COUNT(1) as cnt\n",
        "#         FROM geometry_cte\n",
        "#         GROUP BY 1\n",
        "#     )\n",
        "#         SELECT\n",
        "#             h3_h3_to_string(cell_id) AS cell_id,\n",
        "#             h3_cell_to_boundary_wkt(cell_id) as cell_boundary,\n",
        "#             SUM(cnt) as cnt\n",
        "#         FROM h3_cells_cte\n",
        "#         GROUP BY ALL\n",
        "#         \"\"\"\n",
        "# world_df = con.sql(query).df()"
      ]
    },
    {
      "cell_type": "markdown",
      "metadata": {
        "id": "I7Rgx4qvj0QC"
      },
      "source": [
        "You can unncomment and run this if you'd like to run in the [Kepler.gl](kepler.gl) web app or [Four Square Studio](https://studio.foursquare.com/). You just need the cell_id string and cnt. It's a little easier on your machine when you don't use the hexagon polygon. Just drop in the csv file."
      ]
    },
    {
      "cell_type": "code",
      "execution_count": null,
      "metadata": {
        "id": "36LSkU-kj0QC"
      },
      "outputs": [],
      "source": [
        "# con.sql(\"\"\"copy (\n",
        "#     select\n",
        "#         cell_id,\n",
        "#         cnt\n",
        "#     from world_df\n",
        "#     )\n",
        "#         to 'world_intersections_r_4.csv'\n",
        "\n",
        "#         \"\"\")"
      ]
    },
    {
      "cell_type": "code",
      "execution_count": null,
      "metadata": {
        "id": "8tM6uijbj0QD"
      },
      "outputs": [],
      "source": [
        "kepler_config_world = {'version': 'v1', 'config': {'visState': {'filters': [{'dataId': ['Intersection Denisty'], 'id': '304eu5ond', 'name': ['cnt'], 'type': 'range', 'value': [1000, 641169], 'enlarged': False, 'plotType': 'histogram', 'animationWindow': 'free', 'yAxis': None, 'speed': 1}], 'layers': [{'id': 'cwsk4o', 'type': 'geojson', 'config': {'dataId': 'Intersection Denisty', 'label': 'Intersection Denisty', 'color': [18, 147, 154], 'highlightColor': [252, 242, 26, 255], 'columns': {'geojson': 'cell_boundary'}, 'isVisible': True, 'visConfig': {'opacity': 0.8, 'strokeOpacity': 0.8, 'thickness': 0.5, 'strokeColor': [221, 178, 124], 'colorRange': {'name': 'Global Warming', 'type': 'sequential', 'category': 'Uber', 'colors': ['#5A1846', '#900C3F', '#C70039', '#E3611C', '#F1920E', '#FFC300']}, 'strokeColorRange': {'name': 'Global Warming', 'type': 'sequential', 'category': 'Uber', 'colors': ['#5A1846', '#900C3F', '#C70039', '#E3611C', '#F1920E', '#FFC300']}, 'radius': 10, 'sizeRange': [0, 10], 'radiusRange': [0, 50], 'heightRange': [0, 500], 'elevationScale': 5, 'enableElevationZoomFactor': True, 'stroked': False, 'filled': True, 'enable3d': False, 'wireframe': False}, 'hidden': False, 'textLabel': [{'field': None, 'color': [255, 255, 255], 'size': 18, 'offset': [0, 0], 'anchor': 'start', 'alignment': 'center'}]}, 'visualChannels': {'colorField': {'name': 'cnt', 'type': 'integer'}, 'colorScale': 'quantile', 'strokeColorField': None, 'strokeColorScale': 'quantile', 'sizeField': None, 'sizeScale': 'linear', 'heightField': None, 'heightScale': 'linear', 'radiusField': None, 'radiusScale': 'linear'}}], 'interactionConfig': {'tooltip': {'fieldsToShow': {'Intersection Denisty': [{'name': 'cnt', 'format': None}]}, 'compareMode': False, 'compareType': 'absolute', 'enabled': True}, 'brush': {'size': 0.5, 'enabled': False}, 'geocoder': {'enabled': False}, 'coordinate': {'enabled': False}}, 'layerBlending': 'normal', 'splitMaps': [], 'animationConfig': {'currentTime': None, 'speed': 1}}, 'mapState': {'bearing': 0, 'dragRotate': False, 'latitude': 22.75549645676714, 'longitude': 22.565008872105324, 'pitch': 0, 'zoom': 0.7987392656530802, 'isSplit': False}, 'mapStyle': {'styleType': 'dark', 'topLayerGroups': {}, 'visibleLayerGroups': {'label': False, 'road': False, 'border': False, 'building': True, 'water': True, 'land': True, '3d building': False}, 'threeDBuildingColor': [9.665468314072013, 17.18305478057247, 31.1442867897876], 'mapStyles': {}}}}"
      ]
    },
    {
      "cell_type": "code",
      "execution_count": null,
      "metadata": {
        "id": "6vanLqp9j0QD"
      },
      "outputs": [],
      "source": [
        "# # Load an empty map\n",
        "# from keplergl import KeplerGl\n",
        "\n",
        "# # Create an instance of KeplerGl\n",
        "# map_2 = KeplerGl()\n",
        "\n",
        "# # Add your data to the map\n",
        "# map_2.add_data(data=world_df[[\"cell_boundary\", \"cnt\"]], name='Intersection Denisty')\n",
        "\n",
        "# map_2.config = kepler_config_world\n",
        "# # Display the map\n",
        "# map_2"
      ]
    },
    {
      "cell_type": "code",
      "execution_count": null,
      "metadata": {
        "id": "ocY-ZN82j0QD"
      },
      "outputs": [],
      "source": [
        "# print(map_2.config)"
      ]
    }
  ],
  "metadata": {
    "colab": {
      "include_colab_link": true,
      "provenance": []
    },
    "kernelspec": {
      "display_name": "wetlands_venv",
      "language": "python",
      "name": "python3"
    },
    "language_info": {
      "codemirror_mode": {
        "name": "ipython",
        "version": 3
      },
      "file_extension": ".py",
      "mimetype": "text/x-python",
      "name": "python",
      "nbconvert_exporter": "python",
      "pygments_lexer": "ipython3",
      "version": "3.11.1"
    }
  },
  "nbformat": 4,
  "nbformat_minor": 0
}
